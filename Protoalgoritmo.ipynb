{
 "cells": [
  {
   "cell_type": "markdown",
   "metadata": {},
   "source": [
    "Pre-algoritmo"
   ]
  },
  {
   "cell_type": "code",
   "execution_count": 1,
   "metadata": {},
   "outputs": [],
   "source": [
    "import numpy as np\n",
    "import pandas as pd\n",
    "import matplotlib.pyplot as plt\n",
    "import csv"
   ]
  },
  {
   "cell_type": "code",
   "execution_count": 2,
   "metadata": {},
   "outputs": [],
   "source": [
    "# Matriz M.\n",
    "\n",
    "# Desde Excel. (No se queda este párrafo)\n",
    "# Se cargan los datos de la matriz inicial de un archivo Excel.\n",
    "# Lee el archivo Excel y devuelve un DataFrame de pandas.\n",
    "# Matriz definida previamente con 5 filas (países) y 15 columnas (productos). \n",
    "# df = pd.read_excel('datos.xlsx', header=None)\n",
    "# Convierte el DataFrame en un array de NumPy, formato matricial.\n",
    "# M = df.to_numpy()\n",
    "\n",
    "#c = 10\n",
    "#p = 100\n",
    "# Generar una matriz M anidada.\n",
    "#M = np.zeros((c, p))\n",
    "#o = 0\n",
    "#h = int(p/c)+1\n",
    "#for i in range(c):\n",
    "#    for j in range(p-o):\n",
    "#        M[i, j] = 1\n",
    "#    o = o + h -1\n",
    "\n",
    "# Cargar la matriz desde el archivo CSV\n",
    "# Convertimos la matriz M en un array de NumPy.\n",
    "file_path = 'M_PL_055.csv'\n",
    "with open(file_path, newline='') as csvfile:\n",
    "    reader = csv.reader(csvfile)\n",
    "    M = list(reader)\n",
    "    M = np.array([row[1:] for row in M[1:]], dtype=float)  # Excluimos la primera fila y el primer elemento de cada fila\n",
    "\n",
    "# Se obtienen las dimensiones de la matriz.\n",
    "c, p = M.shape\n",
    "\n",
    "# Matriz aleatoria. (No se queda este párrafo)\n",
    "# Se evita la reproducibilidad (datos iniciales distintos cada vez que se ejecute):\n",
    "# np.random.seed()\n",
    "# Tamaño de la matriz inicial.\n",
    "# c = 5 # Número de países/filas.\n",
    "# p = 5 # Número de productos/columnas.\n",
    "# peso = 2 # Matriz con valores aleatorios entre 0 y peso-1.\n",
    "# M = np.random.randint(peso, size=(c, p))\n",
    "\n",
    "# Si, al final, se quiere representar ln(F), logaritmo = 1, si no, logaritmo = 0.\n",
    "logaritmo = 1\n",
    "\n",
    "# (No se queda este párrafo)\n",
    "#print(\"Número de países: {}\".format(c))\n",
    "#print(\"Número de productos: {}\".format(p))"
   ]
  },
  {
   "cell_type": "markdown",
   "metadata": {},
   "source": [
    "Notación\n",
    "\n",
    "A^{n}: Vector de la variable A en la iteración n.\n",
    "Ag^{n}: Vector de la variable no normalizada A en la iteración n. (Variable intemedia de iteración).\n",
    "B_c^{n}: Componente c de la variable B en la iteración n.\n",
    "\n",
    "Declaración de variables\n",
    "F: Vector de la Competitividad normalizada.\n",
    "Q: Vector de la Complejidad normalizadas.\n",
    "F_valores: Matriz que guarda los valores de F en cada iteración.\n",
    "Q_valores: Matriz que guarda los valores de Q en cada iteración."
   ]
  },
  {
   "cell_type": "markdown",
   "metadata": {},
   "source": [
    "Consideraciones sobre las Condiciones iniciales:\n",
    "Para el paso previo de calcular Fg^{n} y Qg^{n}, es necesario haber normalizado F^{n-1} y Q^{n-1}. \n",
    "Se toma A^{n} = 0 para el caso de Ag^{n-1} = 0.\n",
    "Esto implica que las condiciones iniciales se imponen sólo para Fg^{0} y Qg^{0} y no se definen para F^{0} y Q^{0}.\n",
    "\n",
    "Para calcular las variables intermedias Fg^{1} y Qg^{1}, se calculan primero F^{0} y Q^{0}.\n",
    "F^{0} y Q^{0} están normalizadas, por lo tanto da igual los valores exactos de Fg^{0} y Qg^{0}, es decir, no afectan a la iteración. Sólo afectará si Fg^{0} o Qg^{0} es 0.\n",
    "Es decir, es idéntico imponer unas condiciones aleatorias a Fg^{0} y Qg^{0} que imponer condiciones aleatorias con valores 0 o 1 a las mismas Fg^{0} y Qg^{0}."
   ]
  },
  {
   "cell_type": "code",
   "execution_count": 8,
   "metadata": {},
   "outputs": [],
   "source": [
    "#Condiciones iniciales.\n",
    "# Se imponen condiciones iniciales para Fg y Qg.\n",
    "CIartículo = 0\n",
    "if CIartículo == 1:\n",
    "    # Valores iniciales Fg y Qg = 1 para todo c y p.\n",
    "    Fg = np.ones(c)\n",
    "    Qg = np.ones(p)\n",
    "else:\n",
    "    # Valores iniciales de Fg y Qg aleatorios.\n",
    "    Fg = np.random.randint(2, size=c)\n",
    "    Qg = np.random.randint(2, size=p)\n",
    "\n",
    "F = Fg / np.max(Fg)\n",
    "Q = Qg / np.max(Qg)\n",
    "\n",
    "# Definimos el número de iteraciones\n",
    "n = 100\n",
    "\n",
    "F_valores = np.zeros((n, c))\n",
    "Q_valores = np.zeros((n, p))"
   ]
  },
  {
   "cell_type": "code",
   "execution_count": 10,
   "metadata": {},
   "outputs": [
    {
     "ename": "ValueError",
     "evalue": "could not broadcast input array from shape (64,195) into shape (64,)",
     "output_type": "error",
     "traceback": [
      "\u001b[1;31m---------------------------------------------------------------------------\u001b[0m",
      "\u001b[1;31mValueError\u001b[0m                                Traceback (most recent call last)",
      "Cell \u001b[1;32mIn[10], line 14\u001b[0m\n\u001b[0;32m     11\u001b[0m Qg \u001b[38;5;241m=\u001b[39m \u001b[38;5;241m1.0\u001b[39m \u001b[38;5;241m/\u001b[39m invQ  \u001b[38;5;66;03m# donde Qg[p] = 1 / \\sum_c ( M_{c,p} / F_c^{(n-1)} )\u001b[39;00m\n\u001b[0;32m     13\u001b[0m \u001b[38;5;66;03m# 3) Guardar los valores de F y Q en cada iteración para su posterior análisis/representación.\u001b[39;00m\n\u001b[1;32m---> 14\u001b[0m \u001b[43mF_valores\u001b[49m\u001b[43m[\u001b[49m\u001b[43mi\u001b[49m\u001b[43m,\u001b[49m\u001b[43m \u001b[49m\u001b[43m:\u001b[49m\u001b[43m]\u001b[49m \u001b[38;5;241m=\u001b[39m F\n\u001b[0;32m     15\u001b[0m Q_valores[i, :] \u001b[38;5;241m=\u001b[39m Q\n\u001b[0;32m     17\u001b[0m \u001b[38;5;66;03m# 4) Normalización de y actualización de F y Q para la siguiente iteración.\u001b[39;00m\n",
      "\u001b[1;31mValueError\u001b[0m: could not broadcast input array from shape (64,195) into shape (64,)"
     ]
    }
   ],
   "source": [
    "for i in range(n):\n",
    "    # 1) Cálculo de las variables intermedias:\n",
    "    # 1.1) Cálculo de Fg en la iteración n:\n",
    "    Fg = M.dot(Q)  #  donde Fg[c] = \\sum_p M_{c,p} * Q[p]\n",
    "\n",
    "    # 1.2) Cálculo de Qg en la iteración n:\n",
    "    # vector 1/F\n",
    "    invF = 1.0 / F\n",
    "    # Para cada p, sum_c M_{c,p} * (1/F[c]). Usamos la multiplicación de matriz traspuesta y hayamos 1/Q[p].\n",
    "    invQ = M.T.dot(invF)\n",
    "    Qg = 1.0 / invQ  # donde Qg[p] = 1 / \\sum_c ( M_{c,p} / F_c^{(n-1)} )\n",
    "\n",
    "    # 3) Guardar los valores de F y Q en cada iteración para su posterior análisis/representación.\n",
    "    F_valores[i, :] = F\n",
    "    Q_valores[i, :] = Q\n",
    "\n",
    "    # 4) Normalización de y actualización de F y Q para la siguiente iteración.\n",
    "    F = Fg / np.max(Fg)\n",
    "    Q = Qg / np.max(Qg)"
   ]
  },
  {
   "cell_type": "code",
   "execution_count": null,
   "metadata": {},
   "outputs": [],
   "source": [
    "# Graficar la evolución de las componentes de F en función de las iteraciones\n",
    "plt.figure(figsize=(10, 6))\n",
    "for j in range(c):\n",
    "    plt.plot(range(n), F_valores[:, j])\n",
    "plt.xlabel('Iteraciones')\n",
    "# ylabel. Si se quiere representar ln(F), se cambia el título del eje y.\n",
    "if logaritmo == 1:\n",
    "    plt.ylabel('ln(Competitividad Normalizada (F))')\n",
    "else:\n",
    "    plt.ylabel('Competitividad Normalizada (F)')\n",
    "\n",
    "plt.title('Evolución de las Componentes de F en Función de las Iteraciones')\n",
    "# Cartel con el tipo de M utilizada.\n",
    "plt.text(110, logaritmo, f\"c = {c}\\np = {p}\\nNo pesada\", bbox=dict(facecolor=\"white\", alpha=0.5))\n",
    "plt.legend()\n",
    "plt.grid(True)\n",
    "plt.show()\n",
    "\n",
    "# (No se queda este párrafo)\n",
    "# Exportamos los datos a Excel\n",
    "# df = pd.DataFrame(F)\n",
    "# df.to_excel('Resultados.xlsx', sheet_name='Países', index=False)\n",
    "# df = pd.DataFrame(Q)\n",
    "# Abre el archivo existente y agrega una nueva hoja\n",
    "# with pd.ExcelWriter('Resultados.xlsx', engine='openpyxl', mode='a', if_sheet_exists='replace') as writer:\n",
    "    # df.to_excel(writer, sheet_name='Productos', index=False)\n",
    "\n",
    "# Resultados finales\n",
    "print(\"Matriz M:\")\n",
    "print(M)\n",
    "print(\"\\nF (después de {} iteraciones):\".format(n))\n",
    "print(F)\n",
    "print(\"\\nQ (después de {} iteraciones):\".format(n))\n",
    "print(Q)"
   ]
  }
 ],
 "metadata": {
  "kernelspec": {
   "display_name": "Python 3",
   "language": "python",
   "name": "python3"
  },
  "language_info": {
   "codemirror_mode": {
    "name": "ipython",
    "version": 3
   },
   "file_extension": ".py",
   "mimetype": "text/x-python",
   "name": "python",
   "nbconvert_exporter": "python",
   "pygments_lexer": "ipython3",
   "version": "3.12.4"
  }
 },
 "nbformat": 4,
 "nbformat_minor": 2
}
