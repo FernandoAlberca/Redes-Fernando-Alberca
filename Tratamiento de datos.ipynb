{
 "cells": [
  {
   "cell_type": "markdown",
   "metadata": {},
   "source": [
    "Content:\n",
    "Trade flows at the year - exporter - importer - product level.\n",
    "Products in Harmonized System 6-digit nomenclature.\n",
    "Values in thousand USD and quantities in metric tons.\n",
    "\n",
    "List of Variables:\n",
    "t: year\n",
    "i: exporter\n",
    "j: importer\n",
    "k: product\n",
    "v: value\n",
    "q: quantity"
   ]
  },
  {
   "cell_type": "markdown",
   "metadata": {},
   "source": [
    "Content of BACI_HS92_Y2023_V202501.csv:\n",
    "Trade flows at the year - exporter - importer - product level.\n",
    "Products in Harmonized System 6-digit nomenclature.\n",
    "Values in thousand USD and quantities in metric tons.\n",
    "\n",
    "List of Variables by columnes:\n",
    "t: year\n",
    "i: exporter\n",
    "j: importer\n",
    "k: product\n",
    "v: value\n",
    "q: quantity"
   ]
  },
  {
   "cell_type": "code",
   "execution_count": 5,
   "metadata": {},
   "outputs": [
    {
     "name": "stderr",
     "output_type": "stream",
     "text": [
      "C:\\Users\\USUARIO\\AppData\\Local\\Temp\\ipykernel_4636\\286975285.py:4: DtypeWarning: Columns (0,1,2,3,4,5) have mixed types. Specify dtype option on import or set low_memory=False.\n",
      "  df = pd.read_csv('BACI_HS92_Y2023_V202501.csv', sep=',', header=None)\n"
     ]
    },
    {
     "name": "stdout",
     "output_type": "stream",
     "text": [
      "El archivo '1intento.csv' se ha creado correctamente.\n"
     ]
    }
   ],
   "source": [
    "import pandas as pd\n",
    "\n",
    "# 1. Leer el archivo CSV sin cabecera, asegurando que los tipos sean correctos\n",
    "df = pd.read_csv('BACI_HS92_Y2023_V202501.csv', sep=',', header=None)\n",
    "#, dtype={'t': int, 'i': str, 'j': int, 'k': str, 'v': float, 'q': float}\n",
    "\n",
    "# 2. Asignar nombres a las columnas\n",
    "df.columns = ['t', 'i', 'j', 'k', 'v', 'q']\n",
    "\n",
    "# 3. Aplicar la transformación a la columna 'k' para quedarse con los primeros 4 dígitos\n",
    "df['k'] = df['k'].apply(lambda x: str(x)[:4])  # Convertir 'k' a string antes de aplicar el slicing\n",
    "\n",
    "# 4. Sustituir NaN por 0 en las columnas 'v' y 'q'\n",
    "df[['v', 'q']] = df[['v', 'q']].fillna(0)\n",
    "\n",
    "# Convertir las columnas 'v' y 'q' a tipo numérico para realizar las operaciones de suma\n",
    "df['v'] = pd.to_numeric(df['v'], errors='coerce')\n",
    "df['q'] = pd.to_numeric(df['q'], errors='coerce')\n",
    "# 5. Agrupar por la columna 'k' y sumar las columnas 'v' y 'q', quedándose con una fila por cada valor de 'k'\n",
    "agrupado = df.groupby(['t', 'i', 'k'], as_index=False).agg({\n",
    "    'v': 'sum',  # Sumar los valores de 'v'\n",
    "    'q': 'sum'   # Sumar los valores de 'q'\n",
    "})\n",
    "\n",
    "# 6. Seleccionar las columnas 1, 2, 4, 5 y 6 y transponer la matriz\n",
    "resultado = agrupado[['t', 'i', 'k', 'v', 'q']]\n",
    "#resultado_transpuesto = resultado.transpose()\n",
    "\n",
    "# 7. Exportar el resultado transpuesto a un archivo CSV\n",
    "#resultado_transpuesto.to_csv('1intento.csv', header=False, index=False)\n",
    "resultado.to_csv('1intento.csv', header=False, index=False)\n",
    "\n",
    "print(\"El archivo '1intento.csv' se ha creado correctamente.\")"
   ]
  }
 ],
 "metadata": {
  "kernelspec": {
   "display_name": "Python 3",
   "language": "python",
   "name": "python3"
  },
  "language_info": {
   "codemirror_mode": {
    "name": "ipython",
    "version": 3
   },
   "file_extension": ".py",
   "mimetype": "text/x-python",
   "name": "python",
   "nbconvert_exporter": "python",
   "pygments_lexer": "ipython3",
   "version": "3.12.4"
  }
 },
 "nbformat": 4,
 "nbformat_minor": 2
}
