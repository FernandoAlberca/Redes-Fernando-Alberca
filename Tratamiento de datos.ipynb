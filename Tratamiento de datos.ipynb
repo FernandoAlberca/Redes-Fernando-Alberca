{
 "cells": [
  {
   "cell_type": "code",
   "execution_count": 62,
   "metadata": {},
   "outputs": [],
   "source": [
    "import pandas as pd\n",
    "import numpy as np\n",
    "import matplotlib.pyplot as plt"
   ]
  },
  {
   "cell_type": "code",
   "execution_count": 63,
   "metadata": {},
   "outputs": [],
   "source": [
    "# 1. Leer el archivo CSV sin cabecera\n",
    "df = pd.read_csv('BACI_HS92_Y2023_V202501.csv', sep=',', header=0)"
   ]
  },
  {
   "cell_type": "markdown",
   "metadata": {},
   "source": [
    "Contenido de BACI_HS92_Y2023_V202501.csv:\n",
    "\n",
    "Productos en nomenclatura de 6 dígitos del Sistema Armonizado.\n",
    "Flujos comerciales a nivel de año - exportador - importador - producto.\n",
    "\n",
    "t, 1ª columna, año\n",
    "\n",
    "i, 2ª columna, país exportador\n",
    "\n",
    "j, 3ª columna, país importador\n",
    "\n",
    "k, 4ª columna, producto\n",
    "\n",
    "v, 5ª columna, volumen de producto intercambiado (toneladas métricas)\n",
    "\n",
    "q, 6ª columna, valor monetario de la transacción (Cientos de dólares)"
   ]
  },
  {
   "cell_type": "code",
   "execution_count": 64,
   "metadata": {},
   "outputs": [],
   "source": [
    "# 2. Agrupar los productos, k, para quedarse con los primeros 4 dígitos.\n",
    "df['k'] = df['k'].apply(lambda x: str(x)[:4])  # Convertir 'k' a string antes de aplicar el slicing"
   ]
  },
  {
   "cell_type": "code",
   "execution_count": 65,
   "metadata": {},
   "outputs": [],
   "source": [
    "# 4. Crear la matriz usando pivot_table para manejar entradas duplicadas\n",
    "M = df.pivot_table(index='i', columns='k', values='q', aggfunc='sum')\n",
    "\n",
    "# Reemplazar NaN por 0 en la matriz resultante\n",
    "M = M.fillna(0)\n",
    "\n",
    "# Convertir la matriz M a un DataFrame de pandas para facilitar su manipulación\n",
    "M = pd.DataFrame(M, index=M.index, columns=M.columns)\n"
   ]
  },
  {
   "attachments": {
    "image.png": {
     "image/png": "[encoded data removed]"
    }
   },
   "cell_type": "markdown",
   "metadata": {},
   "source": [
    "Balassa‐type “Revealed Comparative Advantage” (RCA) index\n",
    "\n",
    "![image.png](attachment:image.png)\n",
    "\n",
    "q_cp: quantity (e.g. exports) of product k by country i.\n",
    "\n",
    "Divided by total quantity of product k across all countries.\n",
    "\n",
    "Divided by total quantity of all products by country i.\n",
    "\n",
    "Dividded by total quantity of all products across all countries.\n",
    "\n",
    "El criterio del filtro no es cantidad exportada, sino valor de la cantidad exportada. Si un país regala productos, no afecta en su \"economía\"."
   ]
  },
  {
   "cell_type": "code",
   "execution_count": 66,
   "metadata": {},
   "outputs": [],
   "source": [
    "# 7. Cálculos para RCA.\n",
    "# Calcula el RCA_cp para cada elemento de la matriz q y lo sustituye en M.\n",
    "filas, columnas = M.shape\n",
    "M_rca = np.zeros((filas-1, columnas-1), dtype=float)  # Inicializa la matriz RCA_cp con ceros"
   ]
  },
  {
   "cell_type": "code",
   "execution_count": 67,
   "metadata": {},
   "outputs": [],
   "source": [
    "suma_total = M.to_numpy().sum()  # Convertir M a un array NumPy para sumar\n",
    "\n",
    "for c in range(filas-1):\n",
    "    for p in range(columnas-1):\n",
    "        suma_columna = M.iloc[:, p].sum()\n",
    "        suma_fila = M.iloc[c, :].sum()\n",
    "        if suma_columna == 0 or suma_fila == 0:\n",
    "            M_rca[c, p] = 0  # Evitar división por cero\n",
    "        else:\n",
    "            M_rca[c, p] = (M.iloc[c, p] / suma_columna) * (suma_total / suma_fila)"
   ]
  },
  {
   "cell_type": "code",
   "execution_count": 68,
   "metadata": {},
   "outputs": [],
   "source": [
    "# 8. Actualización y filtro.\n",
    "for c in range(filas-1):\n",
    "    for p in range(columnas-1):\n",
    "        M.iloc[c, p] = np.where(M_rca[c, p] >= 1, 1, 0)"
   ]
  },
  {
   "cell_type": "code",
   "execution_count": 69,
   "metadata": {},
   "outputs": [],
   "source": [
    "# Reordenar M\n",
    "# Convertir M a un DataFrame si es un array de NumPy\n",
    "if isinstance(M, np.ndarray):\n",
    "\tM = pd.DataFrame(M)\n",
    "\n",
    "# Ordenar las filas y columnas de M según la suma de sus valores\n",
    "M = M.loc[M.sum(axis=1).sort_values(ascending=False).index, M.sum(axis=0).sort_values(ascending=False).index]"
   ]
  },
  {
   "cell_type": "code",
   "execution_count": 70,
   "metadata": {},
   "outputs": [
    {
     "name": "stdout",
     "output_type": "stream",
     "text": [
      "\n",
      "Cabecero de M:\n",
      "k           2523        7402        2503        2807        2522        7403  \\\n",
      "i                                                                              \n",
      "894  1332042.385  805520.328  568492.944  536837.205  409756.346  346569.636   \n",
      "156        0.000       0.000       0.000       0.000       0.000       0.000   \n",
      "251        0.000       0.000       0.000       0.000       1.000       0.000   \n",
      "826        0.000       0.000       0.000       0.000       1.000       0.000   \n",
      "56         0.000       0.000       0.000       1.000       1.000       1.000   \n",
      "\n",
      "k          2202        2304        1701        2701  ...  4501  2913  4007  \\\n",
      "i                                                    ...                     \n",
      "894  302677.741  207706.773  166242.368  156791.893  ...   0.0   0.0   0.0   \n",
      "156       0.000       0.000       0.000       0.000  ...   0.0   1.0   0.0   \n",
      "251       1.000       0.000       1.000       0.000  ...   0.0   0.0   0.0   \n",
      "826       1.000       0.000       0.000       0.000  ...   0.0   0.0   0.0   \n",
      "56        1.000       0.000       0.000       0.000  ...   0.0   0.0   0.0   \n",
      "\n",
      "k    8710  9094  8469  6041  9095  7091  2716  \n",
      "i                                              \n",
      "894   0.0   0.0   0.0   0.0   0.0   0.0   0.0  \n",
      "156   0.0   0.0   0.0   0.0   0.0   0.0   0.0  \n",
      "251   0.0   0.0   0.0   0.0   0.0   0.0   0.0  \n",
      "826   0.0   1.0   0.0   0.0   0.0   0.0   0.0  \n",
      "56    0.0   0.0   0.0   0.0   0.0   0.0   0.0  \n",
      "\n",
      "[5 rows x 1336 columns]\n"
     ]
    }
   ],
   "source": [
    "# Imprimir el cabecero de M\n",
    "print(\"\\nCabecero de M:\")\n",
    "if isinstance(M, np.ndarray):\n",
    "    M = pd.DataFrame(M)  # Convertir M a un DataFrame si es un array de NumPy\n",
    "print(M.head())  # Imprime las primeras 5 filas de M"
   ]
  },
  {
   "cell_type": "code",
   "execution_count": 71,
   "metadata": {},
   "outputs": [
    {
     "data": {
      "image/png": "[encoded data removed]",
      "text/plain": [
       "<Figure size 640x480 with 1 Axes>"
      ]
     },
     "metadata": {},
     "output_type": "display_data"
    }
   ],
   "source": [
    "# 9. Representar la matriz M\n",
    "plt.imshow(M, aspect='auto', cmap='viridis')  # Añadido para mostrar la matriz\n",
    "plt.title(\"2023\")\n",
    "plt.xlabel(\"Productos\")\n",
    "plt.ylabel(\"Exportadores\")\n",
    "plt.show()"
   ]
  },
  {
   "cell_type": "code",
   "execution_count": 72,
   "metadata": {},
   "outputs": [],
   "source": [
    "# 7. Exportar el resultado transpuesto a un archivo CSV\n",
    "M.to_csv('M.csv', header=False, index=False)"
   ]
  }
 ],
 "metadata": {
  "kernelspec": {
   "display_name": "Python 3",
   "language": "python",
   "name": "python3"
  },
  "language_info": {
   "codemirror_mode": {
    "name": "ipython",
    "version": 3
   },
   "file_extension": ".py",
   "mimetype": "text/x-python",
   "name": "python",
   "nbconvert_exporter": "python",
   "pygments_lexer": "ipython3",
   "version": "3.12.4"
  }
 },
 "nbformat": 4,
 "nbformat_minor": 2
}
